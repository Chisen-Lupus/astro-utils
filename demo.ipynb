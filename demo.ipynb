{
 "cells": [
  {
   "cell_type": "code",
   "execution_count": 6,
   "metadata": {},
   "outputs": [],
   "source": [
    "%matplotlib inline\n",
    "%config InlineBackend.figure_format='retina'\n",
    "\n",
    "import os\n",
    "\n",
    "import numpy as np\n",
    "import numpy.linalg as la\n",
    "from numpy import fft\n",
    "\n",
    "import matplotlib as mpl\n",
    "import matplotlib.pyplot as plt\n",
    "\n",
    "import astropy.units as u\n",
    "from astropy.coordinates import SkyCoord\n",
    "from astropy.io import fits\n",
    "from astropy.table import Table\n",
    "from astropy.visualization import AsinhStretch\n",
    "from astropy.wcs import WCS\n",
    "from astropy.nddata import Cutout2D\n",
    "from astropy.visualization import astropy_mpl_style\n",
    "from astropy.stats import sigma_clipped_stats\n",
    "from astropy.nddata import NDData\n",
    "\n",
    "from photutils.detection import DAOStarFinder\n",
    "from photutils.psf import EPSFBuilder\n",
    "from photutils.psf import extract_stars\n",
    "\n",
    "stretch = AsinhStretch()\n",
    "\n",
    "plt.style.use(astropy_mpl_style)\n",
    "plt.rcParams['image.origin'] = 'lower'\n",
    "plt.rcParams['image.interpolation'] = 'none'\n",
    "\n",
    "np.set_printoptions(precision=3)\n",
    "np.set_printoptions(suppress=True)"
   ]
  },
  {
   "cell_type": "code",
   "execution_count": 1,
   "metadata": {},
   "outputs": [
    {
     "data": {
      "text/plain": [
       "array([[ 7201,  6642,  6642, ...,  9498,  9498, 10057],\n",
       "       [ 6642,  6363,  6642, ..., 10057, 10616, 10616],\n",
       "       [ 6922,  6642,  6922, ..., 10337, 11175, 10616],\n",
       "       ...,\n",
       "       [ 5412,  5132,  5412, ..., 13000, 12580, 12021],\n",
       "       [ 5796,  5517,  5796, ..., 12546, 12546, 11987],\n",
       "       [ 5796,  5796,  6076, ..., 11987, 12546, 12546]], dtype='>i2')"
      ]
     },
     "execution_count": 1,
     "metadata": {},
     "output_type": "execute_result"
    }
   ],
   "source": [
    "import numpy as np\n",
    "\n",
    "# Set up matplotlib\n",
    "import matplotlib.pyplot as plt\n",
    "%matplotlib inline\n",
    "\n",
    "from astropy.io import fits\n",
    "from astropy.utils.data import download_file\n",
    "image_file = download_file('http://data.astropy.org/tutorials/FITS-images/HorseHead.fits', cache=True )\n",
    "image_data = fits.getdata(image_file)\n",
    "image_data"
   ]
  },
  {
   "cell_type": "code",
   "execution_count": 2,
   "metadata": {},
   "outputs": [
    {
     "data": {
      "application/vnd.jupyter.widget-view+json": {
       "model_id": "57b0b4c6b66a40ceaa81762e107e5bb0",
       "version_major": 2,
       "version_minor": 0
      },
      "text/plain": [
       "interactive(children=(FloatSlider(value=1.0, description='Frequency:', max=10.0, min=0.1), Output()), _dom_cla…"
      ]
     },
     "metadata": {},
     "output_type": "display_data"
    },
    {
     "data": {
      "text/plain": [
       "<function __main__.plot_sine(frequency)>"
      ]
     },
     "execution_count": 2,
     "metadata": {},
     "output_type": "execute_result"
    }
   ],
   "source": [
    "import numpy as np\n",
    "import matplotlib.pyplot as plt\n",
    "from ipywidgets import interact, FloatSlider\n",
    "\n",
    "# Function to plot the sine wave\n",
    "def plot_sine(frequency):\n",
    "    x = np.linspace(0, 2 * np.pi, 100)\n",
    "    y = np.sin(frequency * x)\n",
    "    \n",
    "    plt.figure(figsize=(10, 5))\n",
    "    plt.plot(x, y)\n",
    "    plt.title(f'Sine Wave with Frequency {frequency}')\n",
    "    plt.xlabel('x')\n",
    "    plt.ylabel('sin(frequency * x)')\n",
    "    plt.ylim(-1.5, 1.5)\n",
    "    plt.grid()\n",
    "    plt.show()\n",
    "\n",
    "# Create a slider for frequency control\n",
    "frequency_slider = FloatSlider(value=1, min=0.1, max=10, step=0.1, description='Frequency:')\n",
    "\n",
    "# Use interact to create the interactive plot\n",
    "interact(plot_sine, frequency=frequency_slider)\n"
   ]
  },
  {
   "cell_type": "code",
   "execution_count": 25,
   "metadata": {},
   "outputs": [
    {
     "data": {
      "text/html": [
       "\n",
       "<style>\n",
       "    .widget-slider .slider {\n",
       "        height: 16px; /* Thickness of the slider bar */\n",
       "    }\n",
       "    .widget-slider .noUi-handle {\n",
       "        margin-top: 6px; /* Adjust to center the handle vertically */\n",
       "    }\n",
       "</style>\n"
      ],
      "text/plain": [
       "<IPython.core.display.HTML object>"
      ]
     },
     "metadata": {},
     "output_type": "display_data"
    },
    {
     "data": {
      "application/vnd.jupyter.widget-view+json": {
       "model_id": "7665fba2302345b4b37fbed7aac34186",
       "version_major": 2,
       "version_minor": 0
      },
      "text/plain": [
       "VBox(children=(HBox(children=(ToggleButtons(layout=Layout(height='33px', width='80%'), options=('linear', 'log…"
      ]
     },
     "metadata": {},
     "output_type": "display_data"
    },
    {
     "data": {
      "application/vnd.jupyter.widget-view+json": {
       "model_id": "f066f915535e48c7a731a6fa79bcdd55",
       "version_major": 2,
       "version_minor": 0
      },
      "text/plain": [
       "Output()"
      ]
     },
     "metadata": {},
     "output_type": "display_data"
    }
   ],
   "source": []
  },
  {
   "cell_type": "code",
   "execution_count": 8,
   "metadata": {},
   "outputs": [
    {
     "data": {
      "text/plain": [
       "{'lines.linewidth': 1.7,\n",
       " 'lines.antialiased': True,\n",
       " 'patch.linewidth': 1.0,\n",
       " 'patch.facecolor': '#348ABD',\n",
       " 'patch.edgecolor': '#CCCCCC',\n",
       " 'patch.antialiased': True,\n",
       " 'image.cmap': 'gist_heat',\n",
       " 'image.origin': 'upper',\n",
       " 'font.size': 12.0,\n",
       " 'axes.facecolor': '#FFFFFF',\n",
       " 'axes.edgecolor': '#AAAAAA',\n",
       " 'axes.linewidth': 1.0,\n",
       " 'axes.grid': True,\n",
       " 'axes.titlesize': 'x-large',\n",
       " 'axes.labelsize': 'large',\n",
       " 'axes.labelcolor': 'k',\n",
       " 'axes.axisbelow': True,\n",
       " 'xtick.major.size': 0,\n",
       " 'xtick.minor.size': 0,\n",
       " 'xtick.major.pad': 6,\n",
       " 'xtick.minor.pad': 6,\n",
       " 'xtick.color': '#565656',\n",
       " 'xtick.direction': 'in',\n",
       " 'ytick.major.size': 0,\n",
       " 'ytick.minor.size': 0,\n",
       " 'ytick.major.pad': 6,\n",
       " 'ytick.minor.pad': 6,\n",
       " 'ytick.color': '#565656',\n",
       " 'ytick.direction': 'in',\n",
       " 'legend.fancybox': True,\n",
       " 'legend.loc': 'best',\n",
       " 'figure.figsize': [8, 6],\n",
       " 'figure.facecolor': '1.0',\n",
       " 'figure.edgecolor': '0.50',\n",
       " 'figure.subplot.hspace': 0.5,\n",
       " 'savefig.dpi': 72,\n",
       " 'axes.prop_cycle': cycler('color', ['#348ABD', '#7A68A6', '#A60628', '#467821', '#CF4457', '#188487', '#E24A33'])}"
      ]
     },
     "execution_count": 8,
     "metadata": {},
     "output_type": "execute_result"
    }
   ],
   "source": [
    "astropy_mpl_style"
   ]
  },
  {
   "cell_type": "code",
   "execution_count": 15,
   "metadata": {},
   "outputs": [
    {
     "ename": "AttributeError",
     "evalue": "'int' object has no attribute 'observe'",
     "output_type": "error",
     "traceback": [
      "\u001b[0;31m---------------------------------------------------------------------------\u001b[0m",
      "\u001b[0;31mAttributeError\u001b[0m                            Traceback (most recent call last)",
      "Cell \u001b[0;32mIn[15], line 43\u001b[0m\n\u001b[1;32m     40\u001b[0m fixed_phase \u001b[38;5;241m=\u001b[39m \u001b[38;5;241m0\u001b[39m  \u001b[38;5;66;03m# This can be any integer value you want to pass\u001b[39;00m\n\u001b[1;32m     42\u001b[0m \u001b[38;5;66;03m# Use interactive_output to combine normal input and widget input\u001b[39;00m\n\u001b[0;32m---> 43\u001b[0m output \u001b[38;5;241m=\u001b[39m widgets\u001b[38;5;241m.\u001b[39minteractive_output(interactive_plot, {\n\u001b[1;32m     44\u001b[0m     \u001b[38;5;124m'\u001b[39m\u001b[38;5;124mamplitude\u001b[39m\u001b[38;5;124m'\u001b[39m: amplitude_input,\n\u001b[1;32m     45\u001b[0m     \u001b[38;5;124m'\u001b[39m\u001b[38;5;124mfrequency\u001b[39m\u001b[38;5;124m'\u001b[39m: frequency_slider,\n\u001b[1;32m     46\u001b[0m     \u001b[38;5;124m'\u001b[39m\u001b[38;5;124mphase\u001b[39m\u001b[38;5;124m'\u001b[39m: fixed_phase  \u001b[38;5;66;03m# Pass the fixed integer here\u001b[39;00m\n\u001b[1;32m     47\u001b[0m })\n\u001b[1;32m     49\u001b[0m \u001b[38;5;66;03m# Display the widgets\u001b[39;00m\n\u001b[1;32m     50\u001b[0m display(amplitude_input, frequency_slider, output)\n",
      "File \u001b[0;32m~/anaconda3/envs/py312/lib/python3.12/site-packages/ipywidgets/widgets/interaction.py:70\u001b[0m, in \u001b[0;36minteractive_output\u001b[0;34m(f, controls)\u001b[0m\n\u001b[1;32m     68\u001b[0m         show_inline_matplotlib_plots()\n\u001b[1;32m     69\u001b[0m \u001b[38;5;28;01mfor\u001b[39;00m k,w \u001b[38;5;129;01min\u001b[39;00m controls\u001b[38;5;241m.\u001b[39mitems():\n\u001b[0;32m---> 70\u001b[0m     w\u001b[38;5;241m.\u001b[39mobserve(observer, \u001b[38;5;124m'\u001b[39m\u001b[38;5;124mvalue\u001b[39m\u001b[38;5;124m'\u001b[39m)\n\u001b[1;32m     71\u001b[0m show_inline_matplotlib_plots()\n\u001b[1;32m     72\u001b[0m observer(\u001b[38;5;28;01mNone\u001b[39;00m)\n",
      "\u001b[0;31mAttributeError\u001b[0m: 'int' object has no attribute 'observe'"
     ]
    }
   ],
   "source": [
    "import numpy as np\n",
    "import matplotlib.pyplot as plt\n",
    "import ipywidgets as widgets\n",
    "from IPython.display import display\n",
    "\n",
    "# Function to plot the sine wave with an additional phase parameter\n",
    "def interactive_plot(amplitude, frequency, phase):\n",
    "    x = np.linspace(0, 2 * np.pi, 1000)\n",
    "    y = amplitude * np.sin(frequency * x + phase)  # Use phase in the sine function\n",
    "    \n",
    "    plt.figure(figsize=(8, 4))\n",
    "    plt.plot(x, y, label=f'Amplitude: {amplitude}, Frequency: {frequency}, Phase: {phase}')\n",
    "    plt.xlabel('X-axis')\n",
    "    plt.ylabel('Y-axis')\n",
    "    plt.title('Interactive Sine Wave')\n",
    "    plt.grid(True)\n",
    "    plt.xlim(0, 10)\n",
    "    plt.ylim(-5, 5)\n",
    "    plt.legend()\n",
    "    plt.show()\n",
    "\n",
    "# Create a slider for frequency\n",
    "frequency_slider = widgets.FloatSlider(\n",
    "    value=1,\n",
    "    min=0.1,\n",
    "    max=10,\n",
    "    step=0.1,\n",
    "    description='Frequency:',\n",
    "    continuous_update=True\n",
    ")\n",
    "\n",
    "# Create a text box for amplitude\n",
    "amplitude_input = widgets.FloatText(\n",
    "    value=1,\n",
    "    description='Amplitude:',\n",
    "    step=0.1\n",
    ")\n",
    "\n",
    "# Define a fixed non-widget integer for phase\n",
    "fixed_phase = 0  # This can be any integer value you want to pass\n",
    "\n",
    "# Use interactive_output to combine normal input and widget input\n",
    "output = widgets.interactive_output(interactive_plot, {\n",
    "    'amplitude': amplitude_input,\n",
    "    'frequency': frequency_slider,\n",
    "    'phase': fixed_phase  # Pass the fixed integer here\n",
    "})\n",
    "\n",
    "# Display the widgets\n",
    "display(amplitude_input, frequency_slider, output)\n"
   ]
  },
  {
   "cell_type": "code",
   "execution_count": 34,
   "metadata": {},
   "outputs": [
    {
     "data": {
      "text/html": [
       "\n",
       "<style>\n",
       "    .widget-slider .slider {\n",
       "        height: 16px; /* Thickness of the slider bar */\n",
       "    }\n",
       "    .widget-slider .noUi-handle {\n",
       "        margin-top: 6px; /* Adjust to center the handle vertically */\n",
       "    }\n",
       "</style>\n"
      ],
      "text/plain": [
       "<IPython.core.display.HTML object>"
      ]
     },
     "metadata": {},
     "output_type": "display_data"
    },
    {
     "data": {
      "application/vnd.jupyter.widget-view+json": {
       "model_id": "05de9db1f1804a92b30a6f7aeefeae7f",
       "version_major": 2,
       "version_minor": 0
      },
      "text/plain": [
       "VBox(children=(HBox(children=(ToggleButtons(layout=Layout(height='33px', width='80%'), options=('linear', 'log…"
      ]
     },
     "metadata": {},
     "output_type": "display_data"
    },
    {
     "data": {
      "application/vnd.jupyter.widget-view+json": {
       "model_id": "62c776ec5ad142e1baa63af4679c4011",
       "version_major": 2,
       "version_minor": 0
      },
      "text/plain": [
       "Output()"
      ]
     },
     "metadata": {},
     "output_type": "display_data"
    }
   ],
   "source": [
    "import ipywidgets as widgets\n",
    "from ipywidgets import Layout\n",
    "\n",
    "from IPython.display import display, HTML\n",
    "\n",
    "import numpy as np\n",
    "\n",
    "# Set up matplotlib\n",
    "import matplotlib.pyplot as plt\n",
    "%matplotlib inline\n",
    "\n",
    "from astropy.io import fits\n",
    "from astropy.utils.data import download_file\n",
    "image_file = download_file('http://data.astropy.org/tutorials/FITS-images/HorseHead.fits', cache=True )\n",
    "image_data = fits.getdata(image_file)\n",
    "image_data\n",
    "\n",
    "scale_method = widgets.ToggleButtons(\n",
    "    options=['linear', 'log', 'power', 'sqrt', 'squared', 'asinh', 'sinh', 'histogram'],\n",
    "    value='linear', \n",
    "    layout=Layout(width='80%', height='33px'), \n",
    "    description='',\n",
    "    disabled=False, \n",
    "    style={'button_width': '11.8%'}\n",
    ")\n",
    "\n",
    "scale_range = widgets.ToggleButtons(\n",
    "    options=['min max', 'zscale'],\n",
    "    value='min max',\n",
    "    layout=Layout(width='20%', height='33px'), \n",
    "    description='',\n",
    "    disabled=False, \n",
    "    style={'button_width': '47%'}\n",
    ")\n",
    "\n",
    "scale_slider = widgets.FloatSlider(\n",
    "    value=0.5,\n",
    "    min=0,\n",
    "    max=1,\n",
    "    step=0.005,\n",
    "    description='',\n",
    "    continuous_update=True,\n",
    "    readout=False,\n",
    "    layout=Layout(width='60%')\n",
    ")\n",
    "\n",
    "colormap = widgets.Dropdown(\n",
    "    options=['gist_heat', 'grey', 'seismic'],\n",
    "    value='grey',\n",
    "    description='',\n",
    "    disabled=False,\n",
    "    layout=Layout(width='10%'), \n",
    ")\n",
    "\n",
    "grid = widgets.ToggleButton(\n",
    "    value=False,\n",
    "    description='grid',\n",
    "    disabled=False,\n",
    "    button_style='',\n",
    "    tooltip='Description',\n",
    "    icon='check',\n",
    "    layout=Layout(width='10%'), \n",
    ")\n",
    "\n",
    "coordinate = widgets.ToggleButtons(\n",
    "    options=['image', 'world'],\n",
    "    value='image',\n",
    "    layout=Layout(width='20.2%', height='33px'), \n",
    "    description='',\n",
    "    disabled=False, \n",
    "    style={'button_width': '47%'}\n",
    ")\n",
    "\n",
    "custom_css = \"\"\"\n",
    "<style>\n",
    "    .widget-slider .slider {\n",
    "        height: 16px; /* Thickness of the slider bar */\n",
    "    }\n",
    "    .widget-slider .noUi-handle {\n",
    "        margin-top: 6px; /* Adjust to center the handle vertically */\n",
    "    }\n",
    "</style>\n",
    "\"\"\"\n",
    "\n",
    "ui1 = widgets.HBox([scale_method, scale_range])\n",
    "ui2 = widgets.HBox([scale_slider, colormap, grid, coordinate])\n",
    "ui = widgets.VBox([ui1, ui2])\n",
    "\n",
    "def make_plot(data, \n",
    "              scale_method, scale_range, \n",
    "              scale_slider, colormap, grid, coordinate):\n",
    "    plt.figure(figsize=[8, 6])\n",
    "    # parse scaling method\n",
    "    if scale_method=='linear': \n",
    "        strech = lambda x: x\n",
    "    elif scale_method=='log':\n",
    "        strech = np.log\n",
    "    elif scale_method=='power':\n",
    "        strech = np.exp\n",
    "    elif scale_method=='sqrt':\n",
    "        strech = np.sqrt\n",
    "    elif scale_method=='squared':\n",
    "        strech = lambda x: x**2\n",
    "    elif scale_method=='asinh': \n",
    "        strech = np.arcsinh\n",
    "    elif scale_method=='sinh': \n",
    "        strech = np.sinh\n",
    "    elif scale_method=='histogram': \n",
    "        strech = NotImplemented\n",
    "    else: \n",
    "        strech = NotImplemented\n",
    "    # parse scale_range and scale_slider\n",
    "    vmin = NotImplemented\n",
    "    vmax = NotImplemented\n",
    "    # parse coordinate\n",
    "    # TODO\n",
    "    # TODO: temp imshow\n",
    "    plt.imshow(strech(data)*scale_slider*2, vmin=np.min(strech(data)), vmax=np.max(strech(data)), cmap=colormap)\n",
    "    plt.colorbar(orientation='horizontal', fraction=0.046, pad=0.04)\n",
    "    # parse grid\n",
    "    if grid: \n",
    "        plt.grid('off')\n",
    "    else: \n",
    "        plt.grid()\n",
    "    plt.tight_layout()\n",
    "    plt.show()\n",
    "\n",
    "out = widgets.interactive_output(make_plot, \n",
    "                                 {'data':  widgets.fixed(image_data), \n",
    "                                  'scale_method': scale_method, \n",
    "                                  'scale_range': scale_range, \n",
    "                                  'scale_slider': scale_slider, \n",
    "                                  'colormap': colormap, \n",
    "                                  'grid': grid,\n",
    "                                  'coordinate': coordinate})\n",
    "\n",
    "display(HTML(custom_css), ui, out)"
   ]
  },
  {
   "cell_type": "code",
   "execution_count": 27,
   "metadata": {},
   "outputs": [
    {
     "data": {
      "text/plain": [
       "{'lines.linewidth': 1.7,\n",
       " 'lines.antialiased': True,\n",
       " 'patch.linewidth': 1.0,\n",
       " 'patch.facecolor': '#348ABD',\n",
       " 'patch.edgecolor': '#CCCCCC',\n",
       " 'patch.antialiased': True,\n",
       " 'image.cmap': 'gist_heat',\n",
       " 'image.origin': 'upper',\n",
       " 'font.size': 12.0,\n",
       " 'axes.facecolor': '#FFFFFF',\n",
       " 'axes.edgecolor': '#AAAAAA',\n",
       " 'axes.linewidth': 1.0,\n",
       " 'axes.grid': True,\n",
       " 'axes.titlesize': 'x-large',\n",
       " 'axes.labelsize': 'large',\n",
       " 'axes.labelcolor': 'k',\n",
       " 'axes.axisbelow': True,\n",
       " 'xtick.major.size': 0,\n",
       " 'xtick.minor.size': 0,\n",
       " 'xtick.major.pad': 6,\n",
       " 'xtick.minor.pad': 6,\n",
       " 'xtick.color': '#565656',\n",
       " 'xtick.direction': 'in',\n",
       " 'ytick.major.size': 0,\n",
       " 'ytick.minor.size': 0,\n",
       " 'ytick.major.pad': 6,\n",
       " 'ytick.minor.pad': 6,\n",
       " 'ytick.color': '#565656',\n",
       " 'ytick.direction': 'in',\n",
       " 'legend.fancybox': True,\n",
       " 'legend.loc': 'best',\n",
       " 'figure.figsize': [8, 6],\n",
       " 'figure.facecolor': '1.0',\n",
       " 'figure.edgecolor': '0.50',\n",
       " 'figure.subplot.hspace': 0.5,\n",
       " 'savefig.dpi': 72,\n",
       " 'axes.prop_cycle': cycler('color', ['#348ABD', '#7A68A6', '#A60628', '#467821', '#CF4457', '#188487', '#E24A33'])}"
      ]
     },
     "execution_count": 27,
     "metadata": {},
     "output_type": "execute_result"
    }
   ],
   "source": [
    "astropy_mpl_style"
   ]
  }
 ],
 "metadata": {
  "kernelspec": {
   "display_name": "py312",
   "language": "python",
   "name": "python3"
  },
  "language_info": {
   "codemirror_mode": {
    "name": "ipython",
    "version": 3
   },
   "file_extension": ".py",
   "mimetype": "text/x-python",
   "name": "python",
   "nbconvert_exporter": "python",
   "pygments_lexer": "ipython3",
   "version": "3.12.4"
  }
 },
 "nbformat": 4,
 "nbformat_minor": 2
}
