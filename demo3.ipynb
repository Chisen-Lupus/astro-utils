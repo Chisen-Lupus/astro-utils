{
 "cells": [
  {
   "cell_type": "code",
   "execution_count": 1,
   "metadata": {},
   "outputs": [],
   "source": [
    "%matplotlib inline\n",
    "%config InlineBackend.figure_format='retina'\n",
    "\n",
    "import os, sys\n",
    "from importlib import reload\n",
    "\n",
    "import numpy as np\n",
    "import numpy.linalg as la\n",
    "from numpy import fft\n",
    "\n",
    "np.set_printoptions(precision=3)\n",
    "np.set_printoptions(suppress=True)\n",
    "\n",
    "import astropy.units as u\n",
    "from astropy.coordinates import SkyCoord\n",
    "from astropy.io import fits\n",
    "from astropy.table import Table\n",
    "from astropy.visualization import AsinhStretch\n",
    "from astropy.wcs import WCS\n",
    "from astropy.nddata import Cutout2D\n",
    "from astropy.visualization import astropy_mpl_style\n",
    "from astropy.stats import sigma_clipped_stats\n",
    "from astropy.nddata import NDData\n",
    "\n",
    "stretch = AsinhStretch()\n",
    "\n",
    "from photutils.detection import DAOStarFinder\n",
    "from photutils.psf import EPSFBuilder\n",
    "from photutils.psf import extract_stars\n",
    "\n",
    "import matplotlib as mpl\n",
    "import matplotlib.pyplot as plt\n",
    "\n",
    "plt.style.use(astropy_mpl_style)\n",
    "plt.rcParams['image.origin'] = 'lower'\n",
    "plt.rcParams['image.interpolation'] = 'none'"
   ]
  },
  {
   "cell_type": "code",
   "execution_count": 2,
   "metadata": {},
   "outputs": [
    {
     "data": {
      "text/html": [
       "\n",
       "<style>\n",
       "    .widget-slider .slider {\n",
       "        height: 16px; /* Thickness of the slider bar */\n",
       "    }\n",
       "    .widget-slider .noUi-handle {\n",
       "        margin-top: 6px; /* Adjust to center the handle vertically */\n",
       "    }\n",
       "</style>\n"
      ],
      "text/plain": [
       "<IPython.core.display.HTML object>"
      ]
     },
     "metadata": {},
     "output_type": "display_data"
    },
    {
     "data": {
      "text/html": [
       "\n",
       "<style>\n",
       "    .widget-slider .slider {\n",
       "        height: 16px; /* Thickness of the slider bar */\n",
       "    }\n",
       "    .widget-slider .noUi-handle {\n",
       "        margin-top: 6px; /* Adjust to center the handle vertically */\n",
       "    }\n",
       "</style>\n"
      ],
      "text/plain": [
       "<IPython.core.display.HTML object>"
      ]
     },
     "metadata": {},
     "output_type": "display_data"
    }
   ],
   "source": [
    "sys.path.append('.')\n",
    "\n",
    "import autils"
   ]
  },
  {
   "cell_type": "markdown",
   "metadata": {},
   "source": [
    "Load some test data"
   ]
  },
  {
   "cell_type": "code",
   "execution_count": 3,
   "metadata": {},
   "outputs": [
    {
     "name": "stderr",
     "output_type": "stream",
     "text": [
      "WARNING: FITSFixedWarning: 'datfix' made the change 'Set MJD-OBS to 48247.575694 from DATE-OBS'. [astropy.wcs.wcs]\n"
     ]
    }
   ],
   "source": [
    "from astropy.utils.data import download_file\n",
    "\n",
    "image_file = download_file('http://data.astropy.org/tutorials/FITS-images/HorseHead.fits', cache=True )\n",
    "# image_data = fits.getdata(image_file)\n",
    "with fits.open(image_file) as hdu: \n",
    "    image_data = hdu[0].data\n",
    "    image_header = hdu[0].header\n",
    "    image_wcs = WCS(image_header)"
   ]
  },
  {
   "cell_type": "code",
   "execution_count": 7,
   "metadata": {},
   "outputs": [
    {
     "data": {
      "text/html": [
       "\n",
       "<style>\n",
       "    .widget-slider .slider {\n",
       "        height: 16px; /* Thickness of the slider bar */\n",
       "    }\n",
       "    .widget-slider .noUi-handle {\n",
       "        margin-top: 6px; /* Adjust to center the handle vertically */\n",
       "    }\n",
       "</style>\n"
      ],
      "text/plain": [
       "<IPython.core.display.HTML object>"
      ]
     },
     "metadata": {},
     "output_type": "display_data"
    },
    {
     "data": {
      "application/vnd.jupyter.widget-view+json": {
       "model_id": "2eab856f9f4d4bcdadf28586ffea0aed",
       "version_major": 2,
       "version_minor": 0
      },
      "text/plain": [
       "VBox(children=(HBox(children=(ToggleButtons(index=2, layout=Layout(height='33px', width='80%'), options=(('asi…"
      ]
     },
     "metadata": {},
     "output_type": "display_data"
    },
    {
     "data": {
      "application/vnd.jupyter.widget-view+json": {
       "model_id": "15019229c7ee4302b27011691c258986",
       "version_major": 2,
       "version_minor": 0
      },
      "text/plain": [
       "Output()"
      ]
     },
     "metadata": {},
     "output_type": "display_data"
    }
   ],
   "source": [
    "reload(autils)\n",
    "\n",
    "autils.interactive_plot(image_data, wcs=image_wcs)"
   ]
  },
  {
   "cell_type": "code",
   "execution_count": 5,
   "metadata": {},
   "outputs": [
    {
     "data": {
      "application/vnd.jupyter.widget-view+json": {
       "model_id": "95ac2ca0639b47d282f4299dc5b74864",
       "version_major": 2,
       "version_minor": 0
      },
      "text/plain": [
       "FloatSlider(value=1.0, continuous_update=False, description='Slider:', max=5.0)"
      ]
     },
     "metadata": {},
     "output_type": "display_data"
    },
    {
     "data": {
      "application/vnd.jupyter.widget-view+json": {
       "model_id": "bd3c1f23c2a548efaf1890a37c4a7143",
       "version_major": 2,
       "version_minor": 0
      },
      "text/plain": [
       "Button(description='Reset Slider', style=ButtonStyle())"
      ]
     },
     "metadata": {},
     "output_type": "display_data"
    },
    {
     "data": {
      "application/vnd.jupyter.widget-view+json": {
       "model_id": "a1768f3d8f324231bb02f7e660733b9f",
       "version_major": 2,
       "version_minor": 0
      },
      "text/plain": [
       "Output()"
      ]
     },
     "metadata": {},
     "output_type": "display_data"
    },
    {
     "data": {
      "image/png": "[encoded data removed]",
      "text/plain": [
       "<Figure size 800x600 with 2 Axes>"
      ]
     },
     "metadata": {
      "image/png": {
       "height": 533,
       "width": 589
      }
     },
     "output_type": "display_data"
    }
   ],
   "source": [
    "import numpy as np\n",
    "import matplotlib.pyplot as plt\n",
    "import ipywidgets as widgets\n",
    "from IPython.display import display\n",
    "\n",
    "# Function to update the plot based on the slider value\n",
    "def update_plot(slider_value):\n",
    "    plt.clf()  # Clear the current figure\n",
    "    data = np.random.rand(10, 10) * slider_value  # Update data based on slider value\n",
    "    plt.imshow(data, cmap='viridis', vmin=0, vmax=slider_value)\n",
    "    plt.colorbar()\n",
    "    plt.title(f\"Current Slider Value: {slider_value}\")\n",
    "    plt.show()\n",
    "\n",
    "# Function to reset the slider to a specific value\n",
    "def reset_slider(slider, value):\n",
    "    slider.value = value  # Reset the slider to the specified value\n",
    "\n",
    "# Set up default slider value\n",
    "default_value = 1.0\n",
    "\n",
    "# Create a FloatSlider\n",
    "slider = widgets.FloatSlider(\n",
    "    value=default_value,\n",
    "    min=0,\n",
    "    max=5,\n",
    "    step=0.1,\n",
    "    description='Slider:',\n",
    "    continuous_update=False\n",
    ")\n",
    "\n",
    "# Create a Button with a lambda to pass the slider and default value\n",
    "reset_button = widgets.Button(\n",
    "    description='Reset Slider'\n",
    ")\n",
    "\n",
    "# Set up event handling for the button click, passing slider and default_value\n",
    "reset_button.on_click(lambda b: reset_slider(slider, default_value))\n",
    "\n",
    "# Create interactive output for the plot\n",
    "output = widgets.interactive_output(update_plot, {'slider_value': slider})\n",
    "\n",
    "# Display the slider, button, and output area\n",
    "display(slider, reset_button, output)\n",
    "\n",
    "# Initial plot\n",
    "update_plot(slider.value)\n"
   ]
  }
 ],
 "metadata": {
  "kernelspec": {
   "display_name": "py312",
   "language": "python",
   "name": "python3"
  },
  "language_info": {
   "codemirror_mode": {
    "name": "ipython",
    "version": 3
   },
   "file_extension": ".py",
   "mimetype": "text/x-python",
   "name": "python",
   "nbconvert_exporter": "python",
   "pygments_lexer": "ipython3",
   "version": "3.12.4"
  }
 },
 "nbformat": 4,
 "nbformat_minor": 2
}
