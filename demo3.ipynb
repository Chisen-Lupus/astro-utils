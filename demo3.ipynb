{
 "cells": [
  {
   "cell_type": "code",
   "execution_count": 1,
   "metadata": {},
   "outputs": [],
   "source": [
    "%matplotlib inline\n",
    "%config InlineBackend.figure_format='retina'\n",
    "\n",
    "import os, sys\n",
    "from importlib import reload\n",
    "\n",
    "import numpy as np\n",
    "import numpy.linalg as la\n",
    "from numpy import fft\n",
    "\n",
    "np.set_printoptions(precision=3)\n",
    "np.set_printoptions(suppress=True)\n",
    "\n",
    "import astropy.units as u\n",
    "from astropy.coordinates import SkyCoord\n",
    "from astropy.io import fits\n",
    "from astropy.table import Table\n",
    "from astropy.visualization import AsinhStretch\n",
    "from astropy.wcs import WCS\n",
    "from astropy.nddata import Cutout2D\n",
    "from astropy.visualization import astropy_mpl_style\n",
    "from astropy.stats import sigma_clipped_stats\n",
    "from astropy.nddata import NDData\n",
    "\n",
    "stretch = AsinhStretch()\n",
    "\n",
    "from photutils.detection import DAOStarFinder\n",
    "from photutils.psf import EPSFBuilder\n",
    "from photutils.psf import extract_stars\n",
    "\n",
    "import matplotlib as mpl\n",
    "import matplotlib.pyplot as plt\n",
    "\n",
    "plt.style.use(astropy_mpl_style)\n",
    "plt.rcParams['image.origin'] = 'lower'\n",
    "plt.rcParams['image.interpolation'] = 'none'"
   ]
  },
  {
   "cell_type": "code",
   "execution_count": 2,
   "metadata": {},
   "outputs": [
    {
     "data": {
      "text/html": [
       "\n",
       "<style>\n",
       "    .widget-slider .slider {\n",
       "        height: 16px; /* Thickness of the slider bar */\n",
       "    }\n",
       "    .widget-slider .noUi-handle {\n",
       "        margin-top: 6px; /* Adjust to center the handle vertically */\n",
       "    }\n",
       "</style>\n"
      ],
      "text/plain": [
       "<IPython.core.display.HTML object>"
      ]
     },
     "metadata": {},
     "output_type": "display_data"
    },
    {
     "data": {
      "text/html": [
       "\n",
       "<style>\n",
       "    .widget-slider .slider {\n",
       "        height: 16px; /* Thickness of the slider bar */\n",
       "    }\n",
       "    .widget-slider .noUi-handle {\n",
       "        margin-top: 6px; /* Adjust to center the handle vertically */\n",
       "    }\n",
       "</style>\n"
      ],
      "text/plain": [
       "<IPython.core.display.HTML object>"
      ]
     },
     "metadata": {},
     "output_type": "display_data"
    }
   ],
   "source": [
    "sys.path.append('.')\n",
    "\n",
    "import autils"
   ]
  },
  {
   "cell_type": "markdown",
   "metadata": {},
   "source": [
    "Load some test data"
   ]
  },
  {
   "cell_type": "code",
   "execution_count": 3,
   "metadata": {},
   "outputs": [
    {
     "name": "stderr",
     "output_type": "stream",
     "text": [
      "WARNING: FITSFixedWarning: 'datfix' made the change 'Set MJD-OBS to 48247.575694 from DATE-OBS'. [astropy.wcs.wcs]\n"
     ]
    }
   ],
   "source": [
    "from astropy.utils.data import download_file\n",
    "\n",
    "image_file = download_file('http://data.astropy.org/tutorials/FITS-images/HorseHead.fits', cache=True )\n",
    "# image_data = fits.getdata(image_file)\n",
    "with fits.open(image_file) as hdu: \n",
    "    image_data = hdu[0].data\n",
    "    image_header = hdu[0].header\n",
    "    image_wcs = WCS(image_header)"
   ]
  },
  {
   "cell_type": "code",
   "execution_count": 7,
   "metadata": {},
   "outputs": [
    {
     "data": {
      "text/html": [
       "\n",
       "<style>\n",
       "    .widget-slider .slider {\n",
       "        height: 16px; /* Thickness of the slider bar */\n",
       "    }\n",
       "    .widget-slider .noUi-handle {\n",
       "        margin-top: 6px; /* Adjust to center the handle vertically */\n",
       "    }\n",
       "</style>\n"
      ],
      "text/plain": [
       "<IPython.core.display.HTML object>"
      ]
     },
     "metadata": {},
     "output_type": "display_data"
    },
    {
     "data": {
      "application/vnd.jupyter.widget-view+json": {
       "model_id": "c9299a8fe15e4311b272d57f46391558",
       "version_major": 2,
       "version_minor": 0
      },
      "text/plain": [
       "VBox(children=(HBox(children=(ToggleButtons(layout=Layout(height='33px', width='80%'), options=(('linear', <cl…"
      ]
     },
     "metadata": {},
     "output_type": "display_data"
    },
    {
     "data": {
      "application/vnd.jupyter.widget-view+json": {
       "model_id": "db572a9b99ef460eacefbb49caecbc71",
       "version_major": 2,
       "version_minor": 0
      },
      "text/plain": [
       "Output()"
      ]
     },
     "metadata": {},
     "output_type": "display_data"
    }
   ],
   "source": [
    "reload(autils)\n",
    "\n",
    "autils.interactive_plot(image_data, wcs=image_wcs)"
   ]
  },
  {
   "cell_type": "code",
   "execution_count": null,
   "metadata": {},
   "outputs": [],
   "source": []
  },
  {
   "cell_type": "code",
   "execution_count": null,
   "metadata": {},
   "outputs": [],
   "source": []
  },
  {
   "cell_type": "code",
   "execution_count": null,
   "metadata": {},
   "outputs": [],
   "source": []
  }
 ],
 "metadata": {
  "kernelspec": {
   "display_name": "py312",
   "language": "python",
   "name": "python3"
  },
  "language_info": {
   "codemirror_mode": {
    "name": "ipython",
    "version": 3
   },
   "file_extension": ".py",
   "mimetype": "text/x-python",
   "name": "python",
   "nbconvert_exporter": "python",
   "pygments_lexer": "ipython3",
   "version": "3.12.4"
  }
 },
 "nbformat": 4,
 "nbformat_minor": 2
}
